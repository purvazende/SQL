{
 "cells": [
  {
   "cell_type": "markdown",
   "metadata": {},
   "source": [
    "Analyzing Weather Data from OpenWeatherMap API"
   ]
  },
  {
   "cell_type": "code",
   "execution_count": null,
   "metadata": {},
   "outputs": [],
   "source": [
    "Name: Purva Zende\n",
    "Roll No : BEAD21270\n",
    "Class : BE - B\n",
    "Subject : CL-1"
   ]
  },
  {
   "cell_type": "code",
   "execution_count": 6,
   "metadata": {},
   "outputs": [],
   "source": [
    "import requests\n",
    "import pandas as pd\n",
    "import datetime\n",
    "# Set your OpenWeatherMap API key\n",
    "api_key = 'fb365aa6104829b44455572365ff3b4e'"
   ]
  },
  {
   "cell_type": "code",
   "execution_count": 7,
   "metadata": {},
   "outputs": [
    {
     "data": {
      "text/plain": [
       "{'dt': 1690189200,\n",
       " 'main': {'temp': 298.21,\n",
       "  'feels_like': 298.81,\n",
       "  'temp_min': 298.1,\n",
       "  'temp_max': 298.21,\n",
       "  'pressure': 1006,\n",
       "  'sea_level': 1006,\n",
       "  'grnd_level': 942,\n",
       "  'humidity': 78,\n",
       "  'temp_kf': 0.11},\n",
       " 'weather': [{'id': 804,\n",
       "   'main': 'Clouds',\n",
       "   'description': 'overcast clouds',\n",
       "   'icon': '04d'}],\n",
       " 'clouds': {'all': 100},\n",
       " 'wind': {'speed': 6.85, 'deg': 258, 'gust': 12.9},\n",
       " 'visibility': 10000,\n",
       " 'pop': 0.59,\n",
       " 'sys': {'pod': 'd'},\n",
       " 'dt_txt': '2023-07-24 09:00:00'}"
      ]
     },
     "execution_count": 7,
     "metadata": {},
     "output_type": "execute_result"
    }
   ],
   "source": [
    "lat = 18.184135\n",
    "lon = 74.610764\n",
    "#https://openweathermap.org/api/one-call-3#how How to use api call\n",
    "# Construct the API URL\n",
    "api_url = f\"http://api.openweathermap.org/data/2.5/forecast?lat={lat}&lon={lon}&appid={api_key}\"\n",
    "# Send a GET request to the API\n",
    "response = requests.get(api_url)\n",
    "weather_data = response.json() #pass response to weather_data object(dictionary)\n",
    "weather_data.keys()\n",
    "dict_keys=(['cod', 'message', 'cnt', 'list', 'city'])\n",
    "weather_data['list'][0]\n",
    "{'dt': 1690189200,\n",
    " 'main': {'temp': 298.21,\n",
    " 'feels_like': 298.81,\n",
    " 'temp_min': 298.1,\n",
    " 'temp_max': 298.21,\n",
    " 'pressure': 1006,\n",
    " 'sea_level': 1006,\n",
    " 'grnd_level': 942,\n",
    " 'humidity': 78,\n",
    " 'temp_kf': 0.11},\n",
    " 'weather': [{'id': 804,\n",
    " 'main': 'Clouds',\n",
    " 'description': 'overcast clouds',\n",
    " 'icon': '04d'}],\n",
    " 'clouds': {'all': 100},\n",
    " 'wind': {'speed': 6.85, 'deg': 258, 'gust': 12.9},\n",
    " 'visibility': 10000,\n",
    " 'pop': 0.59,\n",
    " 'sys': {'pod': 'd'},\n",
    " 'dt_txt': '2023-07-24 09:00:00'}\n"
   ]
  },
  {
   "cell_type": "code",
   "execution_count": 8,
   "metadata": {},
   "outputs": [
    {
     "data": {
      "text/plain": [
       "40"
      ]
     },
     "execution_count": 8,
     "metadata": {},
     "output_type": "execute_result"
    }
   ],
   "source": [
    "len(weather_data['list'])"
   ]
  },
  {
   "cell_type": "code",
   "execution_count": 9,
   "metadata": {},
   "outputs": [
    {
     "data": {
      "text/plain": [
       "'clear sky'"
      ]
     },
     "execution_count": 9,
     "metadata": {},
     "output_type": "execute_result"
    }
   ],
   "source": [
    "weather_data['list'][0]['weather'][0]['description']"
   ]
  },
  {
   "cell_type": "code",
   "execution_count": 10,
   "metadata": {},
   "outputs": [
    {
     "data": {
      "text/plain": [
       "305.15"
      ]
     },
     "execution_count": 10,
     "metadata": {},
     "output_type": "execute_result"
    }
   ],
   "source": [
    "temperatures = [item['main']['temp'] for item in weather_data['list']]\n",
    "timestamps = [pd.to_datetime(item['dt'], unit='s') for item in weather_data['list']]\n",
    "temperature = [item['main']['temp'] for item in weather_data['list']]\n",
    "humidity = [item['main']['humidity'] for item in weather_data['list']]\n",
    "wind_speed = [item['wind']['speed'] for item in weather_data['list']]\n",
    "weather_description = [item['weather'][0]['description'] for item in weather_data['list']]\n",
    "# Create a pandas DataFrame with the extracted weather data\n",
    "weather_df = pd.DataFrame({\n",
    "'Timestamp': timestamps,\n",
    "'Temperature': temperatures,\n",
    "'humidity': humidity,\n",
    "'wind_speed': wind_speed,\n",
    "'weather_description': weather_description,\n",
    "})\n",
    "# Set the Timestamp column as the DataFrame's index\n",
    "weather_df.set_index('Timestamp', inplace=True)\n",
    "max_temp = weather_df['Temperature'].max()\n",
    "max_temp"
   ]
  },
  {
   "cell_type": "code",
   "execution_count": 11,
   "metadata": {},
   "outputs": [
    {
     "data": {
      "text/plain": [
       "292.86"
      ]
     },
     "execution_count": 11,
     "metadata": {},
     "output_type": "execute_result"
    }
   ],
   "source": [
    "min_temp = weather_df['Temperature'].min()\n",
    "min_temp"
   ]
  },
  {
   "cell_type": "code",
   "execution_count": 12,
   "metadata": {},
   "outputs": [],
   "source": [
    "# Handling missing values\n",
    "weather_df.fillna(0, inplace=True) # Replace missing values with 0 or appropriate value\n",
    "# Handling inconsistent format (if applicable)\n",
    "weather_df['Temperature'] = weather_df['Temperature'].apply(lambda x: x - 273.15 if isinstance(x, float)else x) "
   ]
  },
  {
   "cell_type": "code",
   "execution_count": 13,
   "metadata": {},
   "outputs": [
    {
     "name": "stdout",
     "output_type": "stream",
     "text": [
      "                     Temperature  humidity  wind_speed weather_description\n",
      "Timestamp                                                                 \n",
      "2023-11-01 18:00:00        24.12        40        3.61           clear sky\n",
      "2023-11-01 21:00:00        22.37        49        2.40           clear sky\n",
      "2023-11-02 00:00:00        19.71        61        1.71    scattered clouds\n",
      "2023-11-02 03:00:00        23.71        52        2.36    scattered clouds\n",
      "2023-11-02 06:00:00        28.72        37        1.85          few clouds\n",
      "2023-11-02 09:00:00        31.35        28        0.89    scattered clouds\n",
      "2023-11-02 12:00:00        30.20        31        2.48       broken clouds\n",
      "2023-11-02 15:00:00        26.56        35        2.35     overcast clouds\n",
      "2023-11-02 18:00:00        24.26        41        2.89       broken clouds\n",
      "2023-11-02 21:00:00        22.13        49        1.56       broken clouds\n",
      "2023-11-03 00:00:00        21.07        52        1.90    scattered clouds\n",
      "2023-11-03 03:00:00        24.78        44        2.57          few clouds\n",
      "2023-11-03 06:00:00        29.75        36        3.28          few clouds\n",
      "2023-11-03 09:00:00        31.81        29        1.57          few clouds\n",
      "2023-11-03 12:00:00        30.70        35        0.74          few clouds\n",
      "2023-11-03 15:00:00        26.62        40        0.95           clear sky\n",
      "2023-11-03 18:00:00        25.18        41        3.29           clear sky\n",
      "2023-11-03 21:00:00        22.66        50        1.03       broken clouds\n",
      "2023-11-04 00:00:00        21.79        49        2.00     overcast clouds\n",
      "2023-11-04 03:00:00        25.06        45        2.58     overcast clouds\n",
      "2023-11-04 06:00:00        30.03        35        3.46     overcast clouds\n",
      "2023-11-04 09:00:00        32.00        31        1.95       broken clouds\n",
      "2023-11-04 12:00:00        30.76        35        1.68       broken clouds\n",
      "2023-11-04 15:00:00        27.98        37        1.78     overcast clouds\n",
      "2023-11-04 18:00:00        27.14        40        2.44     overcast clouds\n",
      "2023-11-04 21:00:00        25.19        47        2.16     overcast clouds\n",
      "2023-11-05 00:00:00        23.42        53        3.16       broken clouds\n",
      "2023-11-05 03:00:00        25.49        49        3.68     overcast clouds\n",
      "2023-11-05 06:00:00        30.08        37        4.14     overcast clouds\n",
      "2023-11-05 09:00:00        31.44        33        2.61     overcast clouds\n",
      "2023-11-05 12:00:00        29.63        38        2.42     overcast clouds\n",
      "2023-11-05 15:00:00        27.45        41        2.30     overcast clouds\n",
      "2023-11-05 18:00:00        25.51        41        3.79     overcast clouds\n",
      "2023-11-05 21:00:00        23.86        45        2.16     overcast clouds\n",
      "2023-11-06 00:00:00        22.06        48        2.48     overcast clouds\n",
      "2023-11-06 03:00:00        25.01        38        2.79     overcast clouds\n",
      "2023-11-06 06:00:00        29.89        27        3.72     overcast clouds\n",
      "2023-11-06 09:00:00        31.66        25        2.78     overcast clouds\n",
      "2023-11-06 12:00:00        29.56        33        1.58     overcast clouds\n",
      "2023-11-06 15:00:00        25.54        38        3.67     overcast clouds\n"
     ]
    }
   ],
   "source": [
    "print(weather_df)"
   ]
  }
 ],
 "metadata": {
  "kernelspec": {
   "display_name": "Python 3 (ipykernel)",
   "language": "python",
   "name": "python3"
  },
  "language_info": {
   "codemirror_mode": {
    "name": "ipython",
    "version": 3
   },
   "file_extension": ".py",
   "mimetype": "text/x-python",
   "name": "python",
   "nbconvert_exporter": "python",
   "pygments_lexer": "ipython3",
   "version": "3.11.7"
  }
 },
 "nbformat": 4,
 "nbformat_minor": 4
}
