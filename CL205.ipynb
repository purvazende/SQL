{
  "nbformat": 4,
  "nbformat_minor": 0,
  "metadata": {
    "colab": {
      "provenance": []
    },
    "kernelspec": {
      "name": "python3",
      "display_name": "Python 3"
    },
    "language_info": {
      "name": "python"
    }
  },
  "cells": [
    {
      "cell_type": "code",
      "execution_count": 1,
      "metadata": {
        "colab": {
          "base_uri": "https://localhost:8080/"
        },
        "collapsed": true,
        "id": "InxVmKKNZ-r3",
        "outputId": "3c6ab35c-5275-48a1-bd2d-5b3191a13a88"
      },
      "outputs": [
        {
          "output_type": "stream",
          "name": "stdout",
          "text": [
            "Requirement already satisfied: qiskit in /usr/local/lib/python3.10/dist-packages (1.2.4)\n",
            "Requirement already satisfied: rustworkx>=0.15.0 in /usr/local/lib/python3.10/dist-packages (from qiskit) (0.15.1)\n",
            "Requirement already satisfied: numpy<3,>=1.17 in /usr/local/lib/python3.10/dist-packages (from qiskit) (1.26.4)\n",
            "Requirement already satisfied: scipy>=1.5 in /usr/local/lib/python3.10/dist-packages (from qiskit) (1.13.1)\n",
            "Requirement already satisfied: sympy>=1.3 in /usr/local/lib/python3.10/dist-packages (from qiskit) (1.13.3)\n",
            "Requirement already satisfied: dill>=0.3 in /usr/local/lib/python3.10/dist-packages (from qiskit) (0.3.9)\n",
            "Requirement already satisfied: python-dateutil>=2.8.0 in /usr/local/lib/python3.10/dist-packages (from qiskit) (2.8.2)\n",
            "Requirement already satisfied: stevedore>=3.0.0 in /usr/local/lib/python3.10/dist-packages (from qiskit) (5.3.0)\n",
            "Requirement already satisfied: typing-extensions in /usr/local/lib/python3.10/dist-packages (from qiskit) (4.12.2)\n",
            "Requirement already satisfied: symengine<0.14,>=0.11 in /usr/local/lib/python3.10/dist-packages (from qiskit) (0.13.0)\n",
            "Requirement already satisfied: six>=1.5 in /usr/local/lib/python3.10/dist-packages (from python-dateutil>=2.8.0->qiskit) (1.16.0)\n",
            "Requirement already satisfied: pbr>=2.0.0 in /usr/local/lib/python3.10/dist-packages (from stevedore>=3.0.0->qiskit) (6.1.0)\n",
            "Requirement already satisfied: mpmath<1.4,>=1.1.0 in /usr/local/lib/python3.10/dist-packages (from sympy>=1.3->qiskit) (1.3.0)\n"
          ]
        }
      ],
      "source": [
        "pip install qiskit"
      ]
    },
    {
      "cell_type": "code",
      "source": [
        "!pip install qiskit-aer"
      ],
      "metadata": {
        "colab": {
          "base_uri": "https://localhost:8080/"
        },
        "collapsed": true,
        "id": "R7CMIHUfZ_q2",
        "outputId": "57edbaee-eae9-4847-cb2a-2e756eac1d03"
      },
      "execution_count": 2,
      "outputs": [
        {
          "output_type": "stream",
          "name": "stdout",
          "text": [
            "Requirement already satisfied: qiskit-aer in /usr/local/lib/python3.10/dist-packages (0.15.1)\n",
            "Requirement already satisfied: qiskit>=1.1.0 in /usr/local/lib/python3.10/dist-packages (from qiskit-aer) (1.2.4)\n",
            "Requirement already satisfied: numpy>=1.16.3 in /usr/local/lib/python3.10/dist-packages (from qiskit-aer) (1.26.4)\n",
            "Requirement already satisfied: scipy>=1.0 in /usr/local/lib/python3.10/dist-packages (from qiskit-aer) (1.13.1)\n",
            "Requirement already satisfied: psutil>=5 in /usr/local/lib/python3.10/dist-packages (from qiskit-aer) (5.9.5)\n",
            "Requirement already satisfied: rustworkx>=0.15.0 in /usr/local/lib/python3.10/dist-packages (from qiskit>=1.1.0->qiskit-aer) (0.15.1)\n",
            "Requirement already satisfied: sympy>=1.3 in /usr/local/lib/python3.10/dist-packages (from qiskit>=1.1.0->qiskit-aer) (1.13.3)\n",
            "Requirement already satisfied: dill>=0.3 in /usr/local/lib/python3.10/dist-packages (from qiskit>=1.1.0->qiskit-aer) (0.3.9)\n",
            "Requirement already satisfied: python-dateutil>=2.8.0 in /usr/local/lib/python3.10/dist-packages (from qiskit>=1.1.0->qiskit-aer) (2.8.2)\n",
            "Requirement already satisfied: stevedore>=3.0.0 in /usr/local/lib/python3.10/dist-packages (from qiskit>=1.1.0->qiskit-aer) (5.3.0)\n",
            "Requirement already satisfied: typing-extensions in /usr/local/lib/python3.10/dist-packages (from qiskit>=1.1.0->qiskit-aer) (4.12.2)\n",
            "Requirement already satisfied: symengine<0.14,>=0.11 in /usr/local/lib/python3.10/dist-packages (from qiskit>=1.1.0->qiskit-aer) (0.13.0)\n",
            "Requirement already satisfied: six>=1.5 in /usr/local/lib/python3.10/dist-packages (from python-dateutil>=2.8.0->qiskit>=1.1.0->qiskit-aer) (1.16.0)\n",
            "Requirement already satisfied: pbr>=2.0.0 in /usr/local/lib/python3.10/dist-packages (from stevedore>=3.0.0->qiskit>=1.1.0->qiskit-aer) (6.1.0)\n",
            "Requirement already satisfied: mpmath<1.4,>=1.1.0 in /usr/local/lib/python3.10/dist-packages (from sympy>=1.3->qiskit>=1.1.0->qiskit-aer) (1.3.0)\n"
          ]
        }
      ]
    },
    {
      "cell_type": "code",
      "source": [
        "pip install pylatexenc"
      ],
      "metadata": {
        "collapsed": true,
        "colab": {
          "base_uri": "https://localhost:8080/"
        },
        "id": "EbKQSiPtafl0",
        "outputId": "3b93a1e6-627a-44c6-f397-85c9fc6ce984"
      },
      "execution_count": 3,
      "outputs": [
        {
          "output_type": "stream",
          "name": "stdout",
          "text": [
            "Requirement already satisfied: pylatexenc in /usr/local/lib/python3.10/dist-packages (2.10)\n"
          ]
        }
      ]
    },
    {
      "cell_type": "code",
      "source": [
        "!pip install pylatexenc"
      ],
      "metadata": {
        "colab": {
          "base_uri": "https://localhost:8080/"
        },
        "id": "rtMONX0Vb0O1",
        "outputId": "450f3a8c-9b47-4dc2-9a21-1cd82011bcb2"
      },
      "execution_count": 4,
      "outputs": [
        {
          "output_type": "stream",
          "name": "stdout",
          "text": [
            "Requirement already satisfied: pylatexenc in /usr/local/lib/python3.10/dist-packages (2.10)\n"
          ]
        }
      ]
    },
    {
      "cell_type": "code",
      "source": [
        "from qiskit import QuantumRegister, ClassicalRegister, QuantumCircuit, transpile\n",
        "from qiskit_aer import Aer  # Corrected import for Aer simulator\n",
        "from qiskit.circuit.library import QFT\n",
        "import numpy as np\n",
        "\n",
        "# Use Aer simulator backend\n",
        "backend = Aer.get_backend('qasm_simulator')\n",
        "\n",
        "# Define pi constant\n",
        "pi = np.pi\n",
        "\n",
        "# Create Quantum and Classical Registers\n",
        "q = QuantumRegister(5, 'q')\n",
        "c = ClassicalRegister(5, 'c')\n",
        "\n",
        "# Create Quantum Circuit\n",
        "circuit = QuantumCircuit(q, c)\n",
        "\n",
        "# Apply some X gates\n",
        "circuit.x(q[4])\n",
        "circuit.x(q[2])\n",
        "circuit.x(q[0])\n",
        "\n",
        "# Apply Quantum Fourier Transform (QFT)\n",
        "circuit.append(QFT(num_qubits=5, approximation_degree=0, do_swaps=True, inverse=False, insert_barriers=False, name='qft'), q)\n",
        "\n",
        "# Measure the quantum register\n",
        "circuit.measure(q, c)\n",
        "\n",
        "# Draw the circuit\n",
        "circuit.draw(output='mpl', filename='qft1.png')\n",
        "\n",
        "print(circuit)\n",
        "\n",
        "# Transpile the circuit for the Aer backend\n",
        "transpiled_circuit = transpile(circuit, backend)\n",
        "\n",
        "# Execute the circuit\n",
        "job = backend.run(transpiled_circuit, shots=1000)\n",
        "\n",
        "# Get the results\n",
        "result = job.result()\n",
        "counts = result.get_counts()\n",
        "\n",
        "# Display the QFT output\n",
        "print(\"\\nQFT Output\")\n",
        "print(\"-------------\")\n",
        "print(counts)\n",
        "\n",
        "# Second Circuit: Apply Inverse QFT\n",
        "q = QuantumRegister(5, 'q')\n",
        "c = ClassicalRegister(5, 'c')\n",
        "\n",
        "circuit = QuantumCircuit(q, c)\n",
        "\n",
        "# Apply the same X gates as before\n",
        "circuit.x(q[4])\n",
        "circuit.x(q[2])\n",
        "circuit.x(q[0])\n",
        "\n",
        "# Apply Quantum Fourier Transform (QFT)\n",
        "circuit.append(QFT(num_qubits=5, approximation_degree=0, do_swaps=True, inverse=True, insert_barriers=False, name='inverse_qft'), q)\n",
        "\n",
        "# Measure the quantum register\n",
        "circuit.measure(q, c)\n",
        "\n",
        "# Draw the second circuit\n",
        "circuit.draw(output='mpl', filename='qft2.png')\n",
        "\n",
        "print(circuit)\n",
        "\n",
        "# Transpile the second circuit for the Aer backend\n",
        "transpiled_circuit = transpile(circuit, backend)\n",
        "\n",
        "# Execute the second circuit\n",
        "job = backend.run(transpiled_circuit, shots=1000)\n",
        "\n",
        "# Get the results for the second job\n",
        "result = job.result()\n",
        "counts = result.get_counts()\n",
        "\n",
        "# Display the QFT with inverse QFT output\n",
        "print(\"\\nQFT with inverse QFT Output\")\n",
        "print(\"------------------------------\")\n",
        "print(counts)\n"
      ],
      "metadata": {
        "colab": {
          "base_uri": "https://localhost:8080/"
        },
        "id": "bpMFJENTaQeP",
        "outputId": "20e9edd0-d866-4c6b-cacb-1dcdbad6d59d"
      },
      "execution_count": 5,
      "outputs": [
        {
          "output_type": "stream",
          "name": "stdout",
          "text": [
            "     ┌───┐┌──────┐┌─┐            \n",
            "q_0: ┤ X ├┤0     ├┤M├────────────\n",
            "     └───┘│      │└╥┘┌─┐         \n",
            "q_1: ─────┤1     ├─╫─┤M├─────────\n",
            "     ┌───┐│      │ ║ └╥┘┌─┐      \n",
            "q_2: ┤ X ├┤2 qft ├─╫──╫─┤M├──────\n",
            "     └───┘│      │ ║  ║ └╥┘┌─┐   \n",
            "q_3: ─────┤3     ├─╫──╫──╫─┤M├───\n",
            "     ┌───┐│      │ ║  ║  ║ └╥┘┌─┐\n",
            "q_4: ┤ X ├┤4     ├─╫──╫──╫──╫─┤M├\n",
            "     └───┘└──────┘ ║  ║  ║  ║ └╥┘\n",
            "c: 5/══════════════╩══╩══╩══╩══╩═\n",
            "                   0  1  2  3  4 \n",
            "\n",
            "QFT Output\n",
            "-------------\n",
            "{'01110': 28, '11010': 24, '11000': 36, '11011': 34, '11111': 27, '00101': 33, '10001': 24, '01001': 34, '11100': 30, '10101': 27, '10010': 25, '01100': 35, '01000': 33, '00001': 26, '00110': 39, '10000': 34, '11101': 37, '00111': 24, '00011': 26, '11001': 38, '00000': 30, '10111': 32, '10100': 36, '01111': 28, '01011': 37, '10011': 30, '11110': 32, '01101': 32, '00010': 36, '00100': 32, '10110': 26, '01010': 35}\n",
            "     ┌───┐┌──────────────┐┌─┐            \n",
            "q_0: ┤ X ├┤0             ├┤M├────────────\n",
            "     └───┘│              │└╥┘┌─┐         \n",
            "q_1: ─────┤1             ├─╫─┤M├─────────\n",
            "     ┌───┐│              │ ║ └╥┘┌─┐      \n",
            "q_2: ┤ X ├┤2 inverse_qft ├─╫──╫─┤M├──────\n",
            "     └───┘│              │ ║  ║ └╥┘┌─┐   \n",
            "q_3: ─────┤3             ├─╫──╫──╫─┤M├───\n",
            "     ┌───┐│              │ ║  ║  ║ └╥┘┌─┐\n",
            "q_4: ┤ X ├┤4             ├─╫──╫──╫──╫─┤M├\n",
            "     └───┘└──────────────┘ ║  ║  ║  ║ └╥┘\n",
            "c: 5/══════════════════════╩══╩══╩══╩══╩═\n",
            "                           0  1  2  3  4 \n",
            "\n",
            "QFT with inverse QFT Output\n",
            "------------------------------\n",
            "{'00010': 33, '01100': 37, '01000': 27, '10010': 31, '10101': 29, '11100': 36, '10001': 21, '00101': 39, '11010': 30, '01001': 30, '01110': 30, '00111': 25, '00011': 37, '01010': 30, '01101': 32, '00001': 35, '00110': 35, '01111': 27, '10110': 40, '10011': 27, '11000': 26, '00100': 38, '11101': 38, '11111': 30, '11011': 26, '10000': 29, '01011': 22, '11110': 30, '11001': 39, '00000': 39, '10111': 31, '10100': 21}\n"
          ]
        }
      ]
    },
    {
      "cell_type": "code",
      "source": [],
      "metadata": {
        "id": "AcMPNTM3bHeA"
      },
      "execution_count": 5,
      "outputs": []
    }
  ]
}