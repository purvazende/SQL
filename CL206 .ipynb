{
 "cells": [
  {
   "cell_type": "markdown",
   "metadata": {
    "id": "taVgbGqbYsUk"
   },
   "source": [
    "Part 1 Stop word Removal"
   ]
  },
  {
   "cell_type": "code",
   "execution_count": 13,
   "metadata": {
    "colab": {
     "base_uri": "https://localhost:8080/"
    },
    "id": "87_bTOWeYn4k",
    "outputId": "490b93f0-1d5a-4b47-f22d-36dfc05045fd"
   },
   "outputs": [
    {
     "name": "stderr",
     "output_type": "stream",
     "text": [
      "[nltk_data] Downloading package stopwords to /root/nltk_data...\n",
      "[nltk_data]   Package stopwords is already up-to-date!\n"
     ]
    },
    {
     "data": {
      "text/plain": [
       "True"
      ]
     },
     "execution_count": 13,
     "metadata": {},
     "output_type": "execute_result"
    }
   ],
   "source": [
    "import nltk\n",
    "from nltk.corpus import stopwords\n",
    "nltk.download('stopwords')\n"
   ]
  },
  {
   "cell_type": "code",
   "execution_count": 14,
   "metadata": {
    "colab": {
     "base_uri": "https://localhost:8080/"
    },
    "id": "2t94Hx_cY4af",
    "outputId": "7ba4ab61-f361-4512-aafb-455ac9d38d8e"
   },
   "outputs": [
    {
     "name": "stdout",
     "output_type": "stream",
     "text": [
      "['i', 'me', 'my', 'myself', 'we', 'our', 'ours', 'ourselves', 'you', \"you're\", \"you've\", \"you'll\", \"you'd\", 'your', 'yours', 'yourself', 'yourselves', 'he', 'him', 'his', 'himself', 'she', \"she's\", 'her', 'hers', 'herself', 'it', \"it's\", 'its', 'itself', 'they', 'them', 'their', 'theirs', 'themselves', 'what', 'which', 'who', 'whom', 'this', 'that', \"that'll\", 'these', 'those', 'am', 'is', 'are', 'was', 'were', 'be', 'been', 'being', 'have', 'has', 'had', 'having', 'do', 'does', 'did', 'doing', 'a', 'an', 'the', 'and', 'but', 'if', 'or', 'because', 'as', 'until', 'while', 'of', 'at', 'by', 'for', 'with', 'about', 'against', 'between', 'into', 'through', 'during', 'before', 'after', 'above', 'below', 'to', 'from', 'up', 'down', 'in', 'out', 'on', 'off', 'over', 'under', 'again', 'further', 'then', 'once', 'here', 'there', 'when', 'where', 'why', 'how', 'all', 'any', 'both', 'each', 'few', 'more', 'most', 'other', 'some', 'such', 'no', 'nor', 'not', 'only', 'own', 'same', 'so', 'than', 'too', 'very', 's', 't', 'can', 'will', 'just', 'don', \"don't\", 'should', \"should've\", 'now', 'd', 'll', 'm', 'o', 're', 've', 'y', 'ain', 'aren', \"aren't\", 'couldn', \"couldn't\", 'didn', \"didn't\", 'doesn', \"doesn't\", 'hadn', \"hadn't\", 'hasn', \"hasn't\", 'haven', \"haven't\", 'isn', \"isn't\", 'ma', 'mightn', \"mightn't\", 'mustn', \"mustn't\", 'needn', \"needn't\", 'shan', \"shan't\", 'shouldn', \"shouldn't\", 'wasn', \"wasn't\", 'weren', \"weren't\", 'won', \"won't\", 'wouldn', \"wouldn't\"]\n"
     ]
    }
   ],
   "source": [
    "print(stopwords.words('english'))"
   ]
  },
  {
   "cell_type": "code",
   "execution_count": 21,
   "metadata": {
    "colab": {
     "base_uri": "https://localhost:8080/"
    },
    "id": "GKqhvQkjZ99D",
    "outputId": "280e2fb3-9d23-4094-8601-2470aa66c4ba"
   },
   "outputs": [
    {
     "name": "stderr",
     "output_type": "stream",
     "text": [
      "[nltk_data] Downloading package punkt to /root/nltk_data...\n",
      "[nltk_data]   Unzipping tokenizers/punkt.zip.\n"
     ]
    },
    {
     "data": {
      "text/plain": [
       "True"
      ]
     },
     "execution_count": 21,
     "metadata": {},
     "output_type": "execute_result"
    }
   ],
   "source": [
    "from nltk.corpus import stopwords\n",
    "from nltk.tokenize import word_tokenize\n",
    "nltk.download('punkt')"
   ]
  },
  {
   "cell_type": "code",
   "execution_count": 22,
   "metadata": {
    "colab": {
     "base_uri": "https://localhost:8080/"
    },
    "id": "YZt4kep8aDVM",
    "outputId": "6c1a2e83-a639-4236-deff-e75da1ef8229"
   },
   "outputs": [
    {
     "name": "stdout",
     "output_type": "stream",
     "text": [
      "['This', 'is', 'a', 'sample', 'sentence', ',', 'showing', 'off', 'the', 'stop', 'words', 'filtration', '.']\n",
      "['This', 'sample', 'sentence', ',', 'showing', 'stop', 'words', 'filtration', '.']\n"
     ]
    }
   ],
   "source": [
    "example_sent = \"\"\"This is a sample sentence,\n",
    " showing off the stop words filtration.\"\"\"\n",
    "\n",
    "stop_words = set(stopwords.words('english'))\n",
    "\n",
    "word_tokens = word_tokenize(example_sent)\n",
    "\n",
    "# converts the words in word_tokens to lower case and then checks whether\n",
    "#they are present in stop_words or not\n",
    "\n",
    "filtered_sentence = [w for w in word_tokens if not w.lower() in stop_words]\n",
    "\n",
    "#with no lower case conversion\n",
    "\n",
    "filtered_sentence = []\n",
    "\n",
    "for w in word_tokens:\n",
    "\n",
    " if w not in stop_words:\n",
    "\n",
    "     filtered_sentence.append(w)\n",
    "\n",
    "print(word_tokens)\n",
    "\n",
    "print(filtered_sentence)"
   ]
  },
  {
   "cell_type": "markdown",
   "metadata": {
    "id": "v-ykOCPXbXWu"
   },
   "source": [
    "Part 2 Performing Stop word in File"
   ]
  },
  {
   "cell_type": "code",
   "execution_count": 23,
   "metadata": {
    "id": "mZaooNxgaHD9"
   },
   "outputs": [],
   "source": [
    "import io\n",
    "from nltk.corpus import stopwords\n",
    "from nltk.tokenize import word_tokenize\n",
    "# word_tokenize accepts\n",
    "# a string as an input, not a file.\n",
    "stop_words = set(stopwords.words('english'))\n"
   ]
  },
  {
   "cell_type": "code",
   "execution_count": 27,
   "metadata": {
    "colab": {
     "base_uri": "https://localhost:8080/"
    },
    "id": "EXiBKnF7bjw1",
    "outputId": "fbdeafe1-4943-450d-ac5e-b29c94e88130"
   },
   "outputs": [
    {
     "name": "stdout",
     "output_type": "stream",
     "text": [
      "Before Removing Stop Words : \n",
      "['Integrating', 'non-traditional', 'assessment', 'methods', 'like', 'project-based', 'learning', 'and', 'competency-based', 'evaluation', 'could', 'provide', 'a', 'more', 'comprehensive', 'picture', 'of', 'student', 'performance.', 'In', 'conclusion,', 'student', 'performance', 'and', 'monitoring', 'systems', 'offer', 'immense', 'potential', 'for', 'enhancing', 'educational', 'outcomes', 'by', 'leveraging', 'data,', 'technology,', 'and', 'collaboration.']\n",
      "Length : 39\n"
     ]
    }
   ],
   "source": [
    "file1 = open(\"/content/sample.txt\")\n",
    "\n",
    "line = file1.read()\n",
    "\n",
    "words = line.split()\n",
    "\n",
    "print(f\"Before Removing Stop Words : \\n{words}\\nLength : {len(words)}\")"
   ]
  },
  {
   "cell_type": "code",
   "execution_count": 31,
   "metadata": {
    "id": "vV7u5uSkbmMe"
   },
   "outputs": [],
   "source": [
    "for r in words:\n",
    "    if not r in stop_words:\n",
    "        appendFile = open('/content/output_filteredtext.txt','a')\n",
    "        appendFile.write(\" \"+r)\n",
    "        appendFile.close()"
   ]
  },
  {
   "cell_type": "code",
   "execution_count": 32,
   "metadata": {
    "colab": {
     "base_uri": "https://localhost:8080/"
    },
    "id": "SiLtwqXZcDQr",
    "outputId": "63bb00bc-d614-4f2d-e9fd-e70a943fa5d6"
   },
   "outputs": [
    {
     "name": "stdout",
     "output_type": "stream",
     "text": [
      "After Removing Stop Words : \n",
      "['Integrating', 'non-traditional', 'assessment', 'methods', 'like', 'project-based', 'learning', 'competency-based', 'evaluation', 'could', 'provide', 'comprehensive', 'picture', 'student', 'performance.', 'In', 'conclusion,', 'student', 'performance', 'monitoring', 'systems', 'offer', 'immense', 'potential', 'enhancing', 'educational', 'outcomes', 'leveraging', 'data,', 'technology,', 'collaboration.', 'Integrating', 'non-traditional', 'assessment', 'methods', 'like', 'project-based', 'learning', 'competency-based', 'evaluation', 'could', 'provide', 'comprehensive', 'picture', 'student', 'performance.', 'In', 'conclusion,', 'student', 'performance', 'monitoring', 'systems', 'offer', 'immense', 'potential', 'enhancing', 'educational', 'outcomes', 'leveraging', 'data,', 'technology,', 'collaboration.']\n",
      "Length : 62\n"
     ]
    }
   ],
   "source": [
    "file2 = open(\"/content/output_filteredtext.txt\")\n",
    "\n",
    "line2 = file2.read()\n",
    "\n",
    "words = line2.split()\n",
    "\n",
    "print(f\"After Removing Stop Words : \\n{words}\\nLength : {len(words)}\")"
   ]
  },
  {
   "cell_type": "markdown",
   "metadata": {
    "id": "UyMggYwxdB3b"
   },
   "source": [
    "Part 3 Stemming"
   ]
  },
  {
   "cell_type": "code",
   "execution_count": 33,
   "metadata": {
    "id": "zwkSx662cZRC"
   },
   "outputs": [],
   "source": [
    "from nltk.tokenize import word_tokenize\n",
    "from nltk.stem import PorterStemmer"
   ]
  },
  {
   "cell_type": "code",
   "execution_count": 34,
   "metadata": {
    "id": "M2LFYvZIdILU"
   },
   "outputs": [],
   "source": [
    "ps = PorterStemmer()"
   ]
  },
  {
   "cell_type": "code",
   "execution_count": 35,
   "metadata": {
    "colab": {
     "base_uri": "https://localhost:8080/"
    },
    "id": "p2XDsM5ZdJcy",
    "outputId": "ab47b8ed-f0f0-4e1f-c150-1361fa332f1d"
   },
   "outputs": [
    {
     "name": "stdout",
     "output_type": "stream",
     "text": [
      "program : program\n",
      "programmer : programm\n",
      "programming : program\n",
      "programs : program\n",
      "programmers : programm\n"
     ]
    }
   ],
   "source": [
    "sample = ['program', 'programmer', 'programming', 'programs', 'programmers']\n",
    "\n",
    "for s in sample:\n",
    "    print(f\"{s} : {ps.stem(s)}\")"
   ]
  },
  {
   "cell_type": "code",
   "execution_count": 36,
   "metadata": {
    "colab": {
     "base_uri": "https://localhost:8080/"
    },
    "id": "0SbPw9_ydK1P",
    "outputId": "6628738c-541d-4131-e5a3-b604d1ae2d15"
   },
   "outputs": [
    {
     "name": "stdout",
     "output_type": "stream",
     "text": [
      "['Programmers', 'program', 'with', 'different', 'programming', 'languages']\n"
     ]
    }
   ],
   "source": [
    "sentence = \"Programmers program with different programming languages\"\n",
    "words = word_tokenize(sentence)\n",
    "print(words)"
   ]
  },
  {
   "cell_type": "code",
   "execution_count": 37,
   "metadata": {
    "colab": {
     "base_uri": "https://localhost:8080/"
    },
    "id": "hlR6mgERdMVR",
    "outputId": "9647b011-7867-4840-d996-7084f21a7f2a"
   },
   "outputs": [
    {
     "name": "stdout",
     "output_type": "stream",
     "text": [
      "Programmers : programm\n",
      "program : program\n",
      "with : with\n",
      "different : differ\n",
      "programming : program\n",
      "languages : languag\n"
     ]
    }
   ],
   "source": [
    "\n",
    "for w in words:\n",
    "    print(f\"{w} : {ps.stem(w)}\")"
   ]
  },
  {
   "cell_type": "code",
   "execution_count": null,
   "metadata": {
    "id": "wV53ZDFHdN8u"
   },
   "outputs": [],
   "source": []
  }
 ],
 "metadata": {
  "colab": {
   "provenance": []
  },
  "kernelspec": {
   "display_name": "Python 3 (ipykernel)",
   "language": "python",
   "name": "python3"
  },
  "language_info": {
   "codemirror_mode": {
    "name": "ipython",
    "version": 3
   },
   "file_extension": ".py",
   "mimetype": "text/x-python",
   "name": "python",
   "nbconvert_exporter": "python",
   "pygments_lexer": "ipython3",
   "version": "3.8.9"
  }
 },
 "nbformat": 4,
 "nbformat_minor": 4
}
